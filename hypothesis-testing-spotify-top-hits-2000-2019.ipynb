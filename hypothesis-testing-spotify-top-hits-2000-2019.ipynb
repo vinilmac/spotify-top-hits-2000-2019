{
 "cells": [
  {
   "cell_type": "code",
   "execution_count": 1,
   "id": "fc0d25fb",
   "metadata": {
    "_cell_guid": "b1076dfc-b9ad-4769-8c92-a6c4dae69d19",
    "_kg_hide-input": true,
    "_kg_hide-output": true,
    "_uuid": "8f2839f25d086af736a60e9eeb907d3b93b6e0e5",
    "execution": {
     "iopub.execute_input": "2022-11-16T05:19:03.897982Z",
     "iopub.status.busy": "2022-11-16T05:19:03.897103Z",
     "iopub.status.idle": "2022-11-16T05:19:03.925521Z",
     "shell.execute_reply": "2022-11-16T05:19:03.924102Z"
    },
    "papermill": {
     "duration": 0.044295,
     "end_time": "2022-11-16T05:19:03.928509",
     "exception": false,
     "start_time": "2022-11-16T05:19:03.884214",
     "status": "completed"
    },
    "tags": []
   },
   "outputs": [
    {
     "name": "stdout",
     "output_type": "stream",
     "text": [
      "/kaggle/input/top-hits-spotify-from-20002019/songs_normalize.csv\n"
     ]
    }
   ],
   "source": [
    "# This Python 3 environment comes with many helpful analytics libraries installed\n",
    "# It is defined by the kaggle/python Docker image: https://github.com/kaggle/docker-python\n",
    "# For example, here's several helpful packages to load\n",
    "\n",
    "import numpy as np # linear algebra\n",
    "import pandas as pd # data processing, CSV file I/O (e.g. pd.read_csv)\n",
    "\n",
    "# Input data files are available in the read-only \"../input/\" directory\n",
    "# For example, running this (by clicking run or pressing Shift+Enter) will list all files under the input directory\n",
    "\n",
    "import os\n",
    "for dirname, _, filenames in os.walk('/kaggle/input'):\n",
    "    for filename in filenames:\n",
    "        print(os.path.join(dirname, filename))\n",
    "\n",
    "# You can write up to 20GB to the current directory (/kaggle/working/) that gets preserved as output when you create a version using \"Save & Run All\" \n",
    "# You can also write temporary files to /kaggle/temp/, but they won't be saved outside of the current session"
   ]
  },
  {
   "cell_type": "markdown",
   "id": "da442810",
   "metadata": {
    "papermill": {
     "duration": 0.010226,
     "end_time": "2022-11-16T05:19:03.949029",
     "exception": false,
     "start_time": "2022-11-16T05:19:03.938803",
     "status": "completed"
    },
    "tags": []
   },
   "source": [
    "  <h1><center><img src= \"https://img1.wsimg.com/isteam/ip/b3ef487a-bb7d-4838-ae40-9009930b7646/Screen%20Shot%202020-10-27%20at%2012.11.28%20AM.png\" alt =\"Spotify\" style='width: 550px;'></center></h1>\n",
    " \n",
    " <h1><center><img src= \"https://images.wondershare.com/recoverit/article/2020/08/unhide-songs-on-spotify-1.jpg\" alt =\"Spotify\" style='width: 200px;'></center></h1>\n",
    " \n",
    "\n",
    "This is an exploratory data analysis of the \"**Spotify Top Hits (2000-2019)**\" dataset by Mark Koverha.\n",
    "\n",
    "* **[Introduction](#introduction)**\n",
    "    - [Variables](#subsection-intro)\n",
    "* **[1. Importing packages](#section-one)**\n",
    "* **[2. Reading the data](#section-two)**\n",
    "* **[3. Review of the data](#section-three)**\n",
    "    - [a. Descriptive statistics](#subsection-a)\n",
    "    - [b. Data cleaning and transformation](#subsection-b)\n",
    "* **[4. Analysis of data](#section-four)**\n",
    "    - [a. Songs by year](#subsection-4a)\n",
    "* **[5. Hypothesis Testing](#section-five)**\n",
    "    - [a. Normality Test](#subsection-5a)\n",
    "    - [b. Hypothesis Test](#subsection-5b)\n",
    "* **[6. Conclusions](#section-six)**\n",
    "\n",
    "    "
   ]
  },
  {
   "cell_type": "markdown",
   "id": "dfd9275b",
   "metadata": {
    "papermill": {
     "duration": 0.009335,
     "end_time": "2022-11-16T05:19:03.968682",
     "exception": false,
     "start_time": "2022-11-16T05:19:03.959347",
     "status": "completed"
    },
    "tags": []
   },
   "source": [
    "<a id=\"introduction\"></a>\n",
    "\n",
    "# <h1><center>Introduction</center></h1>\n",
    "\n",
    "The purpose of this notebook is to stufy the main characteristics of Spotify's most popular songs and understand how they relate to each other according to their features, this time using some statistical Hyphothesis Testing."
   ]
  },
  {
   "cell_type": "markdown",
   "id": "da5ebb17",
   "metadata": {
    "papermill": {
     "duration": 0.00958,
     "end_time": "2022-11-16T05:19:03.987549",
     "exception": false,
     "start_time": "2022-11-16T05:19:03.977969",
     "status": "completed"
    },
    "tags": []
   },
   "source": [
    "----"
   ]
  },
  {
   "cell_type": "markdown",
   "id": "89361f47",
   "metadata": {
    "papermill": {
     "duration": 0.009412,
     "end_time": "2022-11-16T05:19:04.006776",
     "exception": false,
     "start_time": "2022-11-16T05:19:03.997364",
     "status": "completed"
    },
    "tags": []
   },
   "source": [
    "<a id=\"#subsection-intro\"></a>\n",
    "\n",
    "## Variables\n",
    "\n",
    "According to the Spotify website, all of their songs are given a score in each of the following categories (taken from the Spotify API documentation, https://developer.spotify.com/documentation/web-api/reference/):\n",
    "\n",
    "* **Mood**: Danceability, Valence, Energy, Tempo\n",
    "* **Properties**: Loudness, Speechiness, Instrumentalness\n",
    "* **Context**: Liveness, Acousticness\n",
    "\n",
    "\n",
    "The dataset contains the variables:\n",
    "\n",
    "### General informations\n",
    "\n",
    "* **artist**: Name of the Artist.\n",
    "\n",
    "* **song**: Name of the Track.\n",
    "\n",
    "* **genre**: Genre of the track.\n",
    "\n",
    "* **duration_ms**: Duration of the track in milliseconds.\n",
    "\n",
    "* **explicit**: The lyrics or content of a song or a music video contain one or more of the criteria which could be considered offensive or unsuitable for children.\n",
    "\n",
    "* **year**: Release Year of the track.\n",
    "\n",
    "* **popularity**: The higher the value the more popular the song is.\n",
    "\n",
    "* **instrumentalness**: Predicts whether a track contains no vocals. \"Ooh\" and \"aah\" sounds are treated as instrumental in this context. Rap or spoken word tracks are clearly \"vocal\". The closer the instrumentalness value is to 1.0, the greater likelihood the track contains no vocal content. Values above 0.5 are intended to represent instrumental tracks, but confidence is higher as the value approaches 1.0.\n",
    "\n",
    "* **mode**: Mode indicates the modality (major or minor) of a track, the type of scale from which its melodic content is derived. Major is represented by 1 and minor is 0.\n",
    "\n",
    "* **key**: The key the track is in. Integers map to pitches using standard Pitch Class notation. E.g. 0 = C, 1 = C♯/D♭, 2 = D, and so on. If no key was detected, the value is -1.\n",
    "\n",
    "### Mood\n",
    "\n",
    "* **danceability**: Danceability describes how suitable a track is for dancing based on a combination of musical elements including tempo, rhythm stability, beat strength, and overall regularity. A value of 0.0 is least danceable and 1.0 is most danceable.\n",
    "\n",
    "* **valence**: A measure from 0.0 to 1.0 describing the musical positiveness conveyed by a track. Tracks with high valence sound more positive (e.g. happy, cheerful, euphoric), while tracks with low valence sound more negative (e.g. sad, depressed, angry).\n",
    "\n",
    "* **energy**: Energy is a measure from 0.0 to 1.0 and represents a perceptual measure of intensity and activity.\n",
    "\n",
    "* **tempo**: The overall estimated tempo of a track in beats per minute (BPM). In musical terminology, tempo is the speed or pace of a given piece and derives directly from the average beat duration.\n",
    "\n",
    "### Properties \n",
    "\n",
    "* **loudness**: The overall loudness of a track in decibels (dB). Loudness values are averaged across the entire track and are useful for comparing relative loudness of tracks. Loudness is the quality of a sound that is the primary psychological correlate of physical strength (amplitude). Values typically range between -60 and 0 db.\n",
    "\n",
    "* **speechiness**: Speechiness detects the presence of spoken words in a track. The more exclusively speech-like the recording (e.g. talk show, audio book, poetry), the closer to 1.0 the attribute value. Values above 0.66 describe tracks that are probably made entirely of spoken words. Values between 0.33 and 0.66 describe tracks that may contain both music and speech, either in sections or layered, including such cases as rap music. Values below 0.33 most likely represent music and other non-speech-like tracks.\n",
    "\n",
    "### Context\n",
    "\n",
    "* **acousticness**: A confidence measure from 0.0 to 1.0 of whether the track is acoustic. 1.0 represents high confidence the track is acoustic.\n",
    "\n",
    "* **liveness**: Detects the presence of an audience in the recording. Higher liveness values represent an increased probability that the track was performed live. A value above 0.8 provides strong likelihood that the track is live."
   ]
  },
  {
   "cell_type": "markdown",
   "id": "a868cebc",
   "metadata": {
    "papermill": {
     "duration": 0.008974,
     "end_time": "2022-11-16T05:19:04.025027",
     "exception": false,
     "start_time": "2022-11-16T05:19:04.016053",
     "status": "completed"
    },
    "tags": []
   },
   "source": [
    "___"
   ]
  },
  {
   "cell_type": "markdown",
   "id": "c036b80e",
   "metadata": {
    "papermill": {
     "duration": 0.010292,
     "end_time": "2022-11-16T05:19:04.044747",
     "exception": false,
     "start_time": "2022-11-16T05:19:04.034455",
     "status": "completed"
    },
    "tags": []
   },
   "source": [
    "## 1. Importing packages\n",
    "\n",
    "<a id=\"section-one\"></a>"
   ]
  },
  {
   "cell_type": "code",
   "execution_count": 2,
   "id": "41ee55e2",
   "metadata": {
    "execution": {
     "iopub.execute_input": "2022-11-16T05:19:04.069396Z",
     "iopub.status.busy": "2022-11-16T05:19:04.068496Z",
     "iopub.status.idle": "2022-11-16T05:19:06.667189Z",
     "shell.execute_reply": "2022-11-16T05:19:06.665939Z"
    },
    "papermill": {
     "duration": 2.614324,
     "end_time": "2022-11-16T05:19:06.670191",
     "exception": false,
     "start_time": "2022-11-16T05:19:04.055867",
     "status": "completed"
    },
    "tags": []
   },
   "outputs": [],
   "source": [
    "import pandas as pd\n",
    "import numpy as np\n",
    "import seaborn as sns\n",
    "import matplotlib.pyplot as plt\n",
    "import plotly.express as px\n",
    "from scipy.stats import shapiro\n",
    "from scipy.stats import mannwhitneyu\n",
    "\n",
    "import warnings\n",
    "warnings.filterwarnings('ignore')"
   ]
  },
  {
   "cell_type": "markdown",
   "id": "a6394bbd",
   "metadata": {
    "papermill": {
     "duration": 0.009418,
     "end_time": "2022-11-16T05:19:06.690204",
     "exception": false,
     "start_time": "2022-11-16T05:19:06.680786",
     "status": "completed"
    },
    "tags": []
   },
   "source": [
    "---"
   ]
  },
  {
   "cell_type": "markdown",
   "id": "a348d9f6",
   "metadata": {
    "papermill": {
     "duration": 0.008984,
     "end_time": "2022-11-16T05:19:06.708462",
     "exception": false,
     "start_time": "2022-11-16T05:19:06.699478",
     "status": "completed"
    },
    "tags": []
   },
   "source": [
    "## 2. Reading the data\n",
    "\n",
    "<a id=\"section-two\"></a>"
   ]
  },
  {
   "cell_type": "code",
   "execution_count": 3,
   "id": "17a700d1",
   "metadata": {
    "execution": {
     "iopub.execute_input": "2022-11-16T05:19:06.729460Z",
     "iopub.status.busy": "2022-11-16T05:19:06.728640Z",
     "iopub.status.idle": "2022-11-16T05:19:06.772675Z",
     "shell.execute_reply": "2022-11-16T05:19:06.771578Z"
    },
    "papermill": {
     "duration": 0.057627,
     "end_time": "2022-11-16T05:19:06.775348",
     "exception": false,
     "start_time": "2022-11-16T05:19:06.717721",
     "status": "completed"
    },
    "tags": []
   },
   "outputs": [],
   "source": [
    "# Define the file path as a variable\n",
    "file_path = '/kaggle/input/top-hits-spotify-from-20002019/songs_normalize.csv'\n",
    "\n",
    "# Import and read the dataset\n",
    "top_songs = pd.read_csv(file_path)"
   ]
  },
  {
   "cell_type": "markdown",
   "id": "107d904b",
   "metadata": {
    "papermill": {
     "duration": 0.010284,
     "end_time": "2022-11-16T05:19:06.795891",
     "exception": false,
     "start_time": "2022-11-16T05:19:06.785607",
     "status": "completed"
    },
    "tags": []
   },
   "source": [
    "---"
   ]
  },
  {
   "cell_type": "markdown",
   "id": "0863c527",
   "metadata": {
    "papermill": {
     "duration": 0.009564,
     "end_time": "2022-11-16T05:19:06.815986",
     "exception": false,
     "start_time": "2022-11-16T05:19:06.806422",
     "status": "completed"
    },
    "tags": []
   },
   "source": [
    "## 3. Review of the data\n",
    "\n",
    "<a id=\"section-three\"></a>\n",
    "\n",
    "\n",
    "### a. Descriptive statistics\n",
    "\n",
    "<a id=\"subsection-a\"></a>\n",
    "\n",
    "Let's take a first look at the dataset, get to know the variables, how they're registered, get to know the formats, verify missing values and think about how we are going to explore them. Also, we need to check some basic descriptive statistics."
   ]
  },
  {
   "cell_type": "code",
   "execution_count": 4,
   "id": "72afe07b",
   "metadata": {
    "execution": {
     "iopub.execute_input": "2022-11-16T05:19:06.838460Z",
     "iopub.status.busy": "2022-11-16T05:19:06.837596Z",
     "iopub.status.idle": "2022-11-16T05:19:06.869818Z",
     "shell.execute_reply": "2022-11-16T05:19:06.868632Z"
    },
    "papermill": {
     "duration": 0.046439,
     "end_time": "2022-11-16T05:19:06.872325",
     "exception": false,
     "start_time": "2022-11-16T05:19:06.825886",
     "status": "completed"
    },
    "tags": []
   },
   "outputs": [
    {
     "data": {
      "text/html": [
       "<div>\n",
       "<style scoped>\n",
       "    .dataframe tbody tr th:only-of-type {\n",
       "        vertical-align: middle;\n",
       "    }\n",
       "\n",
       "    .dataframe tbody tr th {\n",
       "        vertical-align: top;\n",
       "    }\n",
       "\n",
       "    .dataframe thead th {\n",
       "        text-align: right;\n",
       "    }\n",
       "</style>\n",
       "<table border=\"1\" class=\"dataframe\">\n",
       "  <thead>\n",
       "    <tr style=\"text-align: right;\">\n",
       "      <th></th>\n",
       "      <th>artist</th>\n",
       "      <th>song</th>\n",
       "      <th>duration_ms</th>\n",
       "      <th>explicit</th>\n",
       "      <th>year</th>\n",
       "      <th>popularity</th>\n",
       "      <th>danceability</th>\n",
       "      <th>energy</th>\n",
       "      <th>key</th>\n",
       "      <th>loudness</th>\n",
       "      <th>mode</th>\n",
       "      <th>speechiness</th>\n",
       "      <th>acousticness</th>\n",
       "      <th>instrumentalness</th>\n",
       "      <th>liveness</th>\n",
       "      <th>valence</th>\n",
       "      <th>tempo</th>\n",
       "      <th>genre</th>\n",
       "    </tr>\n",
       "  </thead>\n",
       "  <tbody>\n",
       "    <tr>\n",
       "      <th>0</th>\n",
       "      <td>Britney Spears</td>\n",
       "      <td>Oops!...I Did It Again</td>\n",
       "      <td>211160</td>\n",
       "      <td>False</td>\n",
       "      <td>2000</td>\n",
       "      <td>77</td>\n",
       "      <td>0.751</td>\n",
       "      <td>0.834</td>\n",
       "      <td>1</td>\n",
       "      <td>-5.444</td>\n",
       "      <td>0</td>\n",
       "      <td>0.0437</td>\n",
       "      <td>0.3000</td>\n",
       "      <td>0.000018</td>\n",
       "      <td>0.3550</td>\n",
       "      <td>0.894</td>\n",
       "      <td>95.053</td>\n",
       "      <td>pop</td>\n",
       "    </tr>\n",
       "    <tr>\n",
       "      <th>1</th>\n",
       "      <td>blink-182</td>\n",
       "      <td>All The Small Things</td>\n",
       "      <td>167066</td>\n",
       "      <td>False</td>\n",
       "      <td>1999</td>\n",
       "      <td>79</td>\n",
       "      <td>0.434</td>\n",
       "      <td>0.897</td>\n",
       "      <td>0</td>\n",
       "      <td>-4.918</td>\n",
       "      <td>1</td>\n",
       "      <td>0.0488</td>\n",
       "      <td>0.0103</td>\n",
       "      <td>0.000000</td>\n",
       "      <td>0.6120</td>\n",
       "      <td>0.684</td>\n",
       "      <td>148.726</td>\n",
       "      <td>rock, pop</td>\n",
       "    </tr>\n",
       "    <tr>\n",
       "      <th>2</th>\n",
       "      <td>Faith Hill</td>\n",
       "      <td>Breathe</td>\n",
       "      <td>250546</td>\n",
       "      <td>False</td>\n",
       "      <td>1999</td>\n",
       "      <td>66</td>\n",
       "      <td>0.529</td>\n",
       "      <td>0.496</td>\n",
       "      <td>7</td>\n",
       "      <td>-9.007</td>\n",
       "      <td>1</td>\n",
       "      <td>0.0290</td>\n",
       "      <td>0.1730</td>\n",
       "      <td>0.000000</td>\n",
       "      <td>0.2510</td>\n",
       "      <td>0.278</td>\n",
       "      <td>136.859</td>\n",
       "      <td>pop, country</td>\n",
       "    </tr>\n",
       "    <tr>\n",
       "      <th>3</th>\n",
       "      <td>Bon Jovi</td>\n",
       "      <td>It's My Life</td>\n",
       "      <td>224493</td>\n",
       "      <td>False</td>\n",
       "      <td>2000</td>\n",
       "      <td>78</td>\n",
       "      <td>0.551</td>\n",
       "      <td>0.913</td>\n",
       "      <td>0</td>\n",
       "      <td>-4.063</td>\n",
       "      <td>0</td>\n",
       "      <td>0.0466</td>\n",
       "      <td>0.0263</td>\n",
       "      <td>0.000013</td>\n",
       "      <td>0.3470</td>\n",
       "      <td>0.544</td>\n",
       "      <td>119.992</td>\n",
       "      <td>rock, metal</td>\n",
       "    </tr>\n",
       "    <tr>\n",
       "      <th>4</th>\n",
       "      <td>*NSYNC</td>\n",
       "      <td>Bye Bye Bye</td>\n",
       "      <td>200560</td>\n",
       "      <td>False</td>\n",
       "      <td>2000</td>\n",
       "      <td>65</td>\n",
       "      <td>0.614</td>\n",
       "      <td>0.928</td>\n",
       "      <td>8</td>\n",
       "      <td>-4.806</td>\n",
       "      <td>0</td>\n",
       "      <td>0.0516</td>\n",
       "      <td>0.0408</td>\n",
       "      <td>0.001040</td>\n",
       "      <td>0.0845</td>\n",
       "      <td>0.879</td>\n",
       "      <td>172.656</td>\n",
       "      <td>pop</td>\n",
       "    </tr>\n",
       "  </tbody>\n",
       "</table>\n",
       "</div>"
      ],
      "text/plain": [
       "           artist                    song  duration_ms  explicit  year  \\\n",
       "0  Britney Spears  Oops!...I Did It Again       211160     False  2000   \n",
       "1       blink-182    All The Small Things       167066     False  1999   \n",
       "2      Faith Hill                 Breathe       250546     False  1999   \n",
       "3        Bon Jovi            It's My Life       224493     False  2000   \n",
       "4          *NSYNC             Bye Bye Bye       200560     False  2000   \n",
       "\n",
       "   popularity  danceability  energy  key  loudness  mode  speechiness  \\\n",
       "0          77         0.751   0.834    1    -5.444     0       0.0437   \n",
       "1          79         0.434   0.897    0    -4.918     1       0.0488   \n",
       "2          66         0.529   0.496    7    -9.007     1       0.0290   \n",
       "3          78         0.551   0.913    0    -4.063     0       0.0466   \n",
       "4          65         0.614   0.928    8    -4.806     0       0.0516   \n",
       "\n",
       "   acousticness  instrumentalness  liveness  valence    tempo         genre  \n",
       "0        0.3000          0.000018    0.3550    0.894   95.053           pop  \n",
       "1        0.0103          0.000000    0.6120    0.684  148.726     rock, pop  \n",
       "2        0.1730          0.000000    0.2510    0.278  136.859  pop, country  \n",
       "3        0.0263          0.000013    0.3470    0.544  119.992   rock, metal  \n",
       "4        0.0408          0.001040    0.0845    0.879  172.656           pop  "
      ]
     },
     "execution_count": 4,
     "metadata": {},
     "output_type": "execute_result"
    }
   ],
   "source": [
    "# Checking the first rows of data\n",
    "top_songs.head()"
   ]
  },
  {
   "cell_type": "code",
   "execution_count": 5,
   "id": "6dd7033b",
   "metadata": {
    "execution": {
     "iopub.execute_input": "2022-11-16T05:19:06.896266Z",
     "iopub.status.busy": "2022-11-16T05:19:06.895497Z",
     "iopub.status.idle": "2022-11-16T05:19:06.963877Z",
     "shell.execute_reply": "2022-11-16T05:19:06.962673Z"
    },
    "papermill": {
     "duration": 0.083626,
     "end_time": "2022-11-16T05:19:06.966298",
     "exception": false,
     "start_time": "2022-11-16T05:19:06.882672",
     "status": "completed"
    },
    "tags": []
   },
   "outputs": [
    {
     "data": {
      "text/html": [
       "<div>\n",
       "<style scoped>\n",
       "    .dataframe tbody tr th:only-of-type {\n",
       "        vertical-align: middle;\n",
       "    }\n",
       "\n",
       "    .dataframe tbody tr th {\n",
       "        vertical-align: top;\n",
       "    }\n",
       "\n",
       "    .dataframe thead th {\n",
       "        text-align: right;\n",
       "    }\n",
       "</style>\n",
       "<table border=\"1\" class=\"dataframe\">\n",
       "  <thead>\n",
       "    <tr style=\"text-align: right;\">\n",
       "      <th></th>\n",
       "      <th>duration_ms</th>\n",
       "      <th>year</th>\n",
       "      <th>popularity</th>\n",
       "      <th>danceability</th>\n",
       "      <th>energy</th>\n",
       "      <th>key</th>\n",
       "      <th>loudness</th>\n",
       "      <th>mode</th>\n",
       "      <th>speechiness</th>\n",
       "      <th>acousticness</th>\n",
       "      <th>instrumentalness</th>\n",
       "      <th>liveness</th>\n",
       "      <th>valence</th>\n",
       "      <th>tempo</th>\n",
       "    </tr>\n",
       "  </thead>\n",
       "  <tbody>\n",
       "    <tr>\n",
       "      <th>count</th>\n",
       "      <td>2000.000000</td>\n",
       "      <td>2000.00000</td>\n",
       "      <td>2000.000000</td>\n",
       "      <td>2000.000000</td>\n",
       "      <td>2000.000000</td>\n",
       "      <td>2000.000000</td>\n",
       "      <td>2000.000000</td>\n",
       "      <td>2000.000000</td>\n",
       "      <td>2000.000000</td>\n",
       "      <td>2000.000000</td>\n",
       "      <td>2000.000000</td>\n",
       "      <td>2000.000000</td>\n",
       "      <td>2000.000000</td>\n",
       "      <td>2000.000000</td>\n",
       "    </tr>\n",
       "    <tr>\n",
       "      <th>mean</th>\n",
       "      <td>228748.124500</td>\n",
       "      <td>2009.49400</td>\n",
       "      <td>59.872500</td>\n",
       "      <td>0.667438</td>\n",
       "      <td>0.720366</td>\n",
       "      <td>5.378000</td>\n",
       "      <td>-5.512434</td>\n",
       "      <td>0.553500</td>\n",
       "      <td>0.103568</td>\n",
       "      <td>0.128955</td>\n",
       "      <td>0.015226</td>\n",
       "      <td>0.181216</td>\n",
       "      <td>0.551690</td>\n",
       "      <td>120.122558</td>\n",
       "    </tr>\n",
       "    <tr>\n",
       "      <th>std</th>\n",
       "      <td>39136.569008</td>\n",
       "      <td>5.85996</td>\n",
       "      <td>21.335577</td>\n",
       "      <td>0.140416</td>\n",
       "      <td>0.152745</td>\n",
       "      <td>3.615059</td>\n",
       "      <td>1.933482</td>\n",
       "      <td>0.497254</td>\n",
       "      <td>0.096159</td>\n",
       "      <td>0.173346</td>\n",
       "      <td>0.087771</td>\n",
       "      <td>0.140669</td>\n",
       "      <td>0.220864</td>\n",
       "      <td>26.967112</td>\n",
       "    </tr>\n",
       "    <tr>\n",
       "      <th>min</th>\n",
       "      <td>113000.000000</td>\n",
       "      <td>1998.00000</td>\n",
       "      <td>0.000000</td>\n",
       "      <td>0.129000</td>\n",
       "      <td>0.054900</td>\n",
       "      <td>0.000000</td>\n",
       "      <td>-20.514000</td>\n",
       "      <td>0.000000</td>\n",
       "      <td>0.023200</td>\n",
       "      <td>0.000019</td>\n",
       "      <td>0.000000</td>\n",
       "      <td>0.021500</td>\n",
       "      <td>0.038100</td>\n",
       "      <td>60.019000</td>\n",
       "    </tr>\n",
       "    <tr>\n",
       "      <th>25%</th>\n",
       "      <td>203580.000000</td>\n",
       "      <td>2004.00000</td>\n",
       "      <td>56.000000</td>\n",
       "      <td>0.581000</td>\n",
       "      <td>0.622000</td>\n",
       "      <td>2.000000</td>\n",
       "      <td>-6.490250</td>\n",
       "      <td>0.000000</td>\n",
       "      <td>0.039600</td>\n",
       "      <td>0.014000</td>\n",
       "      <td>0.000000</td>\n",
       "      <td>0.088100</td>\n",
       "      <td>0.386750</td>\n",
       "      <td>98.985750</td>\n",
       "    </tr>\n",
       "    <tr>\n",
       "      <th>50%</th>\n",
       "      <td>223279.500000</td>\n",
       "      <td>2010.00000</td>\n",
       "      <td>65.500000</td>\n",
       "      <td>0.676000</td>\n",
       "      <td>0.736000</td>\n",
       "      <td>6.000000</td>\n",
       "      <td>-5.285000</td>\n",
       "      <td>1.000000</td>\n",
       "      <td>0.059850</td>\n",
       "      <td>0.055700</td>\n",
       "      <td>0.000000</td>\n",
       "      <td>0.124000</td>\n",
       "      <td>0.557500</td>\n",
       "      <td>120.021500</td>\n",
       "    </tr>\n",
       "    <tr>\n",
       "      <th>75%</th>\n",
       "      <td>248133.000000</td>\n",
       "      <td>2015.00000</td>\n",
       "      <td>73.000000</td>\n",
       "      <td>0.764000</td>\n",
       "      <td>0.839000</td>\n",
       "      <td>8.000000</td>\n",
       "      <td>-4.167750</td>\n",
       "      <td>1.000000</td>\n",
       "      <td>0.129000</td>\n",
       "      <td>0.176250</td>\n",
       "      <td>0.000068</td>\n",
       "      <td>0.241000</td>\n",
       "      <td>0.730000</td>\n",
       "      <td>134.265500</td>\n",
       "    </tr>\n",
       "    <tr>\n",
       "      <th>max</th>\n",
       "      <td>484146.000000</td>\n",
       "      <td>2020.00000</td>\n",
       "      <td>89.000000</td>\n",
       "      <td>0.975000</td>\n",
       "      <td>0.999000</td>\n",
       "      <td>11.000000</td>\n",
       "      <td>-0.276000</td>\n",
       "      <td>1.000000</td>\n",
       "      <td>0.576000</td>\n",
       "      <td>0.976000</td>\n",
       "      <td>0.985000</td>\n",
       "      <td>0.853000</td>\n",
       "      <td>0.973000</td>\n",
       "      <td>210.851000</td>\n",
       "    </tr>\n",
       "  </tbody>\n",
       "</table>\n",
       "</div>"
      ],
      "text/plain": [
       "         duration_ms        year   popularity  danceability       energy  \\\n",
       "count    2000.000000  2000.00000  2000.000000   2000.000000  2000.000000   \n",
       "mean   228748.124500  2009.49400    59.872500      0.667438     0.720366   \n",
       "std     39136.569008     5.85996    21.335577      0.140416     0.152745   \n",
       "min    113000.000000  1998.00000     0.000000      0.129000     0.054900   \n",
       "25%    203580.000000  2004.00000    56.000000      0.581000     0.622000   \n",
       "50%    223279.500000  2010.00000    65.500000      0.676000     0.736000   \n",
       "75%    248133.000000  2015.00000    73.000000      0.764000     0.839000   \n",
       "max    484146.000000  2020.00000    89.000000      0.975000     0.999000   \n",
       "\n",
       "               key     loudness         mode  speechiness  acousticness  \\\n",
       "count  2000.000000  2000.000000  2000.000000  2000.000000   2000.000000   \n",
       "mean      5.378000    -5.512434     0.553500     0.103568      0.128955   \n",
       "std       3.615059     1.933482     0.497254     0.096159      0.173346   \n",
       "min       0.000000   -20.514000     0.000000     0.023200      0.000019   \n",
       "25%       2.000000    -6.490250     0.000000     0.039600      0.014000   \n",
       "50%       6.000000    -5.285000     1.000000     0.059850      0.055700   \n",
       "75%       8.000000    -4.167750     1.000000     0.129000      0.176250   \n",
       "max      11.000000    -0.276000     1.000000     0.576000      0.976000   \n",
       "\n",
       "       instrumentalness     liveness      valence        tempo  \n",
       "count       2000.000000  2000.000000  2000.000000  2000.000000  \n",
       "mean           0.015226     0.181216     0.551690   120.122558  \n",
       "std            0.087771     0.140669     0.220864    26.967112  \n",
       "min            0.000000     0.021500     0.038100    60.019000  \n",
       "25%            0.000000     0.088100     0.386750    98.985750  \n",
       "50%            0.000000     0.124000     0.557500   120.021500  \n",
       "75%            0.000068     0.241000     0.730000   134.265500  \n",
       "max            0.985000     0.853000     0.973000   210.851000  "
      ]
     },
     "execution_count": 5,
     "metadata": {},
     "output_type": "execute_result"
    }
   ],
   "source": [
    "# Basic descriptive statistics\n",
    "top_songs.describe()"
   ]
  },
  {
   "cell_type": "markdown",
   "id": "1f374e98",
   "metadata": {
    "papermill": {
     "duration": 0.00966,
     "end_time": "2022-11-16T05:19:06.986201",
     "exception": false,
     "start_time": "2022-11-16T05:19:06.976541",
     "status": "completed"
    },
    "tags": []
   },
   "source": [
    "Most of the data seems to be okay about the descriptive statistics. Although, there's just a few things to check, for example, the minimun observation of the \"year\" is 1998 and the maximum is 2020, which is weird because the database range should goes between 2000 and 2019.\n",
    "\n",
    "We will do something about it in the next step!"
   ]
  },
  {
   "cell_type": "markdown",
   "id": "6e080e04",
   "metadata": {
    "papermill": {
     "duration": 0.009555,
     "end_time": "2022-11-16T05:19:07.005746",
     "exception": false,
     "start_time": "2022-11-16T05:19:06.996191",
     "status": "completed"
    },
    "tags": []
   },
   "source": [
    "### b. Data cleaning and transformation\n",
    "\n",
    "<a id=\"subsection-b\"></a>\n",
    "\n",
    "\n",
    "One of the important first steps when doing the \"data cleaning\" is to check if there's any missing value. We need to understand if the missing values wasn't recorded or if it doesn't really exist for that variable."
   ]
  },
  {
   "cell_type": "code",
   "execution_count": 6,
   "id": "78659a6d",
   "metadata": {
    "_kg_hide-input": true,
    "execution": {
     "iopub.execute_input": "2022-11-16T05:19:07.028002Z",
     "iopub.status.busy": "2022-11-16T05:19:07.027310Z",
     "iopub.status.idle": "2022-11-16T05:19:07.034005Z",
     "shell.execute_reply": "2022-11-16T05:19:07.032397Z"
    },
    "papermill": {
     "duration": 0.021001,
     "end_time": "2022-11-16T05:19:07.036692",
     "exception": false,
     "start_time": "2022-11-16T05:19:07.015691",
     "status": "completed"
    },
    "tags": []
   },
   "outputs": [
    {
     "name": "stdout",
     "output_type": "stream",
     "text": [
      "Total of observations: 2000\n"
     ]
    }
   ],
   "source": [
    "# Collecting the total number of observations in the database (as calculated above)\n",
    "total_rows = len(top_songs)\n",
    "print('Total of observations:', total_rows)"
   ]
  },
  {
   "cell_type": "code",
   "execution_count": 7,
   "id": "f8d50f77",
   "metadata": {
    "execution": {
     "iopub.execute_input": "2022-11-16T05:19:07.058839Z",
     "iopub.status.busy": "2022-11-16T05:19:07.058347Z",
     "iopub.status.idle": "2022-11-16T05:19:07.070637Z",
     "shell.execute_reply": "2022-11-16T05:19:07.068444Z"
    },
    "papermill": {
     "duration": 0.027008,
     "end_time": "2022-11-16T05:19:07.073897",
     "exception": false,
     "start_time": "2022-11-16T05:19:07.046889",
     "status": "completed"
    },
    "tags": []
   },
   "outputs": [
    {
     "name": "stdout",
     "output_type": "stream",
     "text": [
      "artist              0\n",
      "song                0\n",
      "duration_ms         0\n",
      "explicit            0\n",
      "year                0\n",
      "popularity          0\n",
      "danceability        0\n",
      "energy              0\n",
      "key                 0\n",
      "loudness            0\n",
      "mode                0\n",
      "speechiness         0\n",
      "acousticness        0\n",
      "instrumentalness    0\n",
      "liveness            0\n",
      "valence             0\n",
      "tempo               0\n",
      "genre               0\n",
      "dtype: int64\n",
      "-- Proportion of missing values: 0.0\n"
     ]
    }
   ],
   "source": [
    "# Getting the number of missing values\n",
    "missing_values = top_songs.isnull().sum()\n",
    "total_missing = missing_values.sum()\n",
    "\n",
    "# Calculating the proportion between total missing values and total observations of the data\n",
    "proportion_missing_values = (total_missing/total_rows)*100\n",
    "\n",
    "print(missing_values)\n",
    "print('-- Proportion of missing values:', proportion_missing_values)"
   ]
  },
  {
   "cell_type": "code",
   "execution_count": 8,
   "id": "5fb9b9cf",
   "metadata": {
    "execution": {
     "iopub.execute_input": "2022-11-16T05:19:07.096962Z",
     "iopub.status.busy": "2022-11-16T05:19:07.096500Z",
     "iopub.status.idle": "2022-11-16T05:19:07.114852Z",
     "shell.execute_reply": "2022-11-16T05:19:07.113901Z"
    },
    "papermill": {
     "duration": 0.034034,
     "end_time": "2022-11-16T05:19:07.118386",
     "exception": false,
     "start_time": "2022-11-16T05:19:07.084352",
     "status": "completed"
    },
    "tags": []
   },
   "outputs": [
    {
     "name": "stdout",
     "output_type": "stream",
     "text": [
      "<class 'pandas.core.frame.DataFrame'>\n",
      "RangeIndex: 2000 entries, 0 to 1999\n",
      "Data columns (total 18 columns):\n",
      " #   Column            Non-Null Count  Dtype  \n",
      "---  ------            --------------  -----  \n",
      " 0   artist            2000 non-null   object \n",
      " 1   song              2000 non-null   object \n",
      " 2   duration_ms       2000 non-null   int64  \n",
      " 3   explicit          2000 non-null   bool   \n",
      " 4   year              2000 non-null   int64  \n",
      " 5   popularity        2000 non-null   int64  \n",
      " 6   danceability      2000 non-null   float64\n",
      " 7   energy            2000 non-null   float64\n",
      " 8   key               2000 non-null   int64  \n",
      " 9   loudness          2000 non-null   float64\n",
      " 10  mode              2000 non-null   int64  \n",
      " 11  speechiness       2000 non-null   float64\n",
      " 12  acousticness      2000 non-null   float64\n",
      " 13  instrumentalness  2000 non-null   float64\n",
      " 14  liveness          2000 non-null   float64\n",
      " 15  valence           2000 non-null   float64\n",
      " 16  tempo             2000 non-null   float64\n",
      " 17  genre             2000 non-null   object \n",
      "dtypes: bool(1), float64(9), int64(5), object(3)\n",
      "memory usage: 267.7+ KB\n"
     ]
    }
   ],
   "source": [
    "# Checking the variables format\n",
    "top_songs.info()"
   ]
  },
  {
   "cell_type": "markdown",
   "id": "06637afb",
   "metadata": {
    "papermill": {
     "duration": 0.010219,
     "end_time": "2022-11-16T05:19:07.139682",
     "exception": false,
     "start_time": "2022-11-16T05:19:07.129463",
     "status": "completed"
    },
    "tags": []
   },
   "source": [
    "Now let's go back to that \"***year***\" problem we talked about. As stated before:\n",
    "\n",
    "> *Most of the data seems to be okay about the descriptive statistics. Although, there's just a few things to check, for example, the minimun observation of the \"year\" is 1998 and the maximum is 2020, which is weird because the database range should goes between 2000 and 2019.*\n",
    "\n",
    "We need to check how many observations are out of the scope of our analysis. To do that, we are going to group the rows by year."
   ]
  },
  {
   "cell_type": "code",
   "execution_count": 9,
   "id": "9301c44d",
   "metadata": {
    "execution": {
     "iopub.execute_input": "2022-11-16T05:19:07.162631Z",
     "iopub.status.busy": "2022-11-16T05:19:07.161982Z",
     "iopub.status.idle": "2022-11-16T05:19:07.177001Z",
     "shell.execute_reply": "2022-11-16T05:19:07.175564Z"
    },
    "papermill": {
     "duration": 0.029295,
     "end_time": "2022-11-16T05:19:07.179546",
     "exception": false,
     "start_time": "2022-11-16T05:19:07.150251",
     "status": "completed"
    },
    "tags": []
   },
   "outputs": [
    {
     "data": {
      "text/html": [
       "<div>\n",
       "<style scoped>\n",
       "    .dataframe tbody tr th:only-of-type {\n",
       "        vertical-align: middle;\n",
       "    }\n",
       "\n",
       "    .dataframe tbody tr th {\n",
       "        vertical-align: top;\n",
       "    }\n",
       "\n",
       "    .dataframe thead th {\n",
       "        text-align: right;\n",
       "    }\n",
       "</style>\n",
       "<table border=\"1\" class=\"dataframe\">\n",
       "  <thead>\n",
       "    <tr style=\"text-align: right;\">\n",
       "      <th></th>\n",
       "      <th>year</th>\n",
       "      <th>songs</th>\n",
       "    </tr>\n",
       "  </thead>\n",
       "  <tbody>\n",
       "    <tr>\n",
       "      <th>0</th>\n",
       "      <td>1998</td>\n",
       "      <td>1</td>\n",
       "    </tr>\n",
       "    <tr>\n",
       "      <th>1</th>\n",
       "      <td>1999</td>\n",
       "      <td>38</td>\n",
       "    </tr>\n",
       "    <tr>\n",
       "      <th>2</th>\n",
       "      <td>2000</td>\n",
       "      <td>74</td>\n",
       "    </tr>\n",
       "    <tr>\n",
       "      <th>3</th>\n",
       "      <td>2001</td>\n",
       "      <td>108</td>\n",
       "    </tr>\n",
       "    <tr>\n",
       "      <th>4</th>\n",
       "      <td>2002</td>\n",
       "      <td>90</td>\n",
       "    </tr>\n",
       "    <tr>\n",
       "      <th>5</th>\n",
       "      <td>2003</td>\n",
       "      <td>97</td>\n",
       "    </tr>\n",
       "    <tr>\n",
       "      <th>6</th>\n",
       "      <td>2004</td>\n",
       "      <td>96</td>\n",
       "    </tr>\n",
       "    <tr>\n",
       "      <th>7</th>\n",
       "      <td>2005</td>\n",
       "      <td>104</td>\n",
       "    </tr>\n",
       "    <tr>\n",
       "      <th>8</th>\n",
       "      <td>2006</td>\n",
       "      <td>95</td>\n",
       "    </tr>\n",
       "    <tr>\n",
       "      <th>9</th>\n",
       "      <td>2007</td>\n",
       "      <td>94</td>\n",
       "    </tr>\n",
       "    <tr>\n",
       "      <th>10</th>\n",
       "      <td>2008</td>\n",
       "      <td>97</td>\n",
       "    </tr>\n",
       "    <tr>\n",
       "      <th>11</th>\n",
       "      <td>2009</td>\n",
       "      <td>84</td>\n",
       "    </tr>\n",
       "    <tr>\n",
       "      <th>12</th>\n",
       "      <td>2010</td>\n",
       "      <td>107</td>\n",
       "    </tr>\n",
       "    <tr>\n",
       "      <th>13</th>\n",
       "      <td>2011</td>\n",
       "      <td>99</td>\n",
       "    </tr>\n",
       "    <tr>\n",
       "      <th>14</th>\n",
       "      <td>2012</td>\n",
       "      <td>115</td>\n",
       "    </tr>\n",
       "    <tr>\n",
       "      <th>15</th>\n",
       "      <td>2013</td>\n",
       "      <td>89</td>\n",
       "    </tr>\n",
       "    <tr>\n",
       "      <th>16</th>\n",
       "      <td>2014</td>\n",
       "      <td>104</td>\n",
       "    </tr>\n",
       "    <tr>\n",
       "      <th>17</th>\n",
       "      <td>2015</td>\n",
       "      <td>99</td>\n",
       "    </tr>\n",
       "    <tr>\n",
       "      <th>18</th>\n",
       "      <td>2016</td>\n",
       "      <td>99</td>\n",
       "    </tr>\n",
       "    <tr>\n",
       "      <th>19</th>\n",
       "      <td>2017</td>\n",
       "      <td>111</td>\n",
       "    </tr>\n",
       "    <tr>\n",
       "      <th>20</th>\n",
       "      <td>2018</td>\n",
       "      <td>107</td>\n",
       "    </tr>\n",
       "    <tr>\n",
       "      <th>21</th>\n",
       "      <td>2019</td>\n",
       "      <td>89</td>\n",
       "    </tr>\n",
       "    <tr>\n",
       "      <th>22</th>\n",
       "      <td>2020</td>\n",
       "      <td>3</td>\n",
       "    </tr>\n",
       "  </tbody>\n",
       "</table>\n",
       "</div>"
      ],
      "text/plain": [
       "    year  songs\n",
       "0   1998      1\n",
       "1   1999     38\n",
       "2   2000     74\n",
       "3   2001    108\n",
       "4   2002     90\n",
       "5   2003     97\n",
       "6   2004     96\n",
       "7   2005    104\n",
       "8   2006     95\n",
       "9   2007     94\n",
       "10  2008     97\n",
       "11  2009     84\n",
       "12  2010    107\n",
       "13  2011     99\n",
       "14  2012    115\n",
       "15  2013     89\n",
       "16  2014    104\n",
       "17  2015     99\n",
       "18  2016     99\n",
       "19  2017    111\n",
       "20  2018    107\n",
       "21  2019     89\n",
       "22  2020      3"
      ]
     },
     "execution_count": 9,
     "metadata": {},
     "output_type": "execute_result"
    }
   ],
   "source": [
    "# Here we use:\n",
    "## the \"size()\" that pulls up the unique groupby count \n",
    "## the \"reset_index()\" method that resets the name of the column I want it to be\n",
    "## the \"to_frame()\" method that convert the GroupBy into a dataframe\n",
    "\n",
    "songs_by_year = top_songs.groupby(\"year\").size().to_frame(name = 'songs').reset_index()\n",
    "songs_by_year"
   ]
  },
  {
   "cell_type": "code",
   "execution_count": 10,
   "id": "c78da9cf",
   "metadata": {
    "execution": {
     "iopub.execute_input": "2022-11-16T05:19:07.202936Z",
     "iopub.status.busy": "2022-11-16T05:19:07.202474Z",
     "iopub.status.idle": "2022-11-16T05:19:07.210473Z",
     "shell.execute_reply": "2022-11-16T05:19:07.208795Z"
    },
    "papermill": {
     "duration": 0.022813,
     "end_time": "2022-11-16T05:19:07.213150",
     "exception": false,
     "start_time": "2022-11-16T05:19:07.190337",
     "status": "completed"
    },
    "tags": []
   },
   "outputs": [
    {
     "name": "stdout",
     "output_type": "stream",
     "text": [
      "Average of songs by year: 86.95652173913044\n"
     ]
    }
   ],
   "source": [
    "# Calculating the average of observations by year\n",
    "print(\"Average of songs by year:\",songs_by_year['songs'].mean(axis = 0))"
   ]
  },
  {
   "cell_type": "markdown",
   "id": "80370deb",
   "metadata": {
    "papermill": {
     "duration": 0.010326,
     "end_time": "2022-11-16T05:19:07.234310",
     "exception": false,
     "start_time": "2022-11-16T05:19:07.223984",
     "status": "completed"
    },
    "tags": []
   },
   "source": [
    "As we can see above, the data has:\n",
    "\n",
    "- **1** song from **1998**;\n",
    "- **38** songs from **1999**; \n",
    "- **3** songs from **2020**.\n",
    "\n",
    "By calculating the average of songs per year, the number of songs released in 1998, 1999 and 2020 are way below. So, considering the dimension of those quantities and to keep the scope of the analysis as defined by the creator of the dataset, we will drop those observations."
   ]
  },
  {
   "cell_type": "code",
   "execution_count": 11,
   "id": "80b3f46a",
   "metadata": {
    "_kg_hide-output": true,
    "execution": {
     "iopub.execute_input": "2022-11-16T05:19:07.257933Z",
     "iopub.status.busy": "2022-11-16T05:19:07.257157Z",
     "iopub.status.idle": "2022-11-16T05:19:07.272809Z",
     "shell.execute_reply": "2022-11-16T05:19:07.271241Z"
    },
    "papermill": {
     "duration": 0.030735,
     "end_time": "2022-11-16T05:19:07.275653",
     "exception": false,
     "start_time": "2022-11-16T05:19:07.244918",
     "status": "completed"
    },
    "tags": []
   },
   "outputs": [
    {
     "data": {
      "text/plain": [
       "year\n",
       "2000     74\n",
       "2001    108\n",
       "2002     90\n",
       "2003     97\n",
       "2004     96\n",
       "2005    104\n",
       "2006     95\n",
       "2007     94\n",
       "2008     97\n",
       "2009     84\n",
       "2010    107\n",
       "2011     99\n",
       "2012    115\n",
       "2013     89\n",
       "2014    104\n",
       "2015     99\n",
       "2016     99\n",
       "2017    111\n",
       "2018    107\n",
       "2019     89\n",
       "Name: song, dtype: int64"
      ]
     },
     "execution_count": 11,
     "metadata": {},
     "output_type": "execute_result"
    }
   ],
   "source": [
    "# Droping the 1998, 1999 and 2020 observations\n",
    "top_songs = top_songs[(top_songs.year >= 2000) & (top_songs.year <= 2019)]\n",
    "\n",
    "# Checking if the \"year\" is in the right range\n",
    "top_songs.groupby(\"year\")[\"song\"].count()"
   ]
  },
  {
   "cell_type": "markdown",
   "id": "6a354f7e",
   "metadata": {
    "papermill": {
     "duration": 0.01042,
     "end_time": "2022-11-16T05:19:07.297416",
     "exception": false,
     "start_time": "2022-11-16T05:19:07.286996",
     "status": "completed"
    },
    "tags": []
   },
   "source": [
    "## 4. Analysis of data\n",
    "\n",
    "<a id=\"section-four\"></a>\n"
   ]
  },
  {
   "cell_type": "markdown",
   "id": "37f02d09",
   "metadata": {
    "papermill": {
     "duration": 0.010497,
     "end_time": "2022-11-16T05:19:07.318771",
     "exception": false,
     "start_time": "2022-11-16T05:19:07.308274",
     "status": "completed"
    },
    "tags": []
   },
   "source": [
    "After checking out if our data is in perfect condition to go through an analysis, we can start making some plots and begin to visualize some characteristics of the data, seeking for some patterns."
   ]
  },
  {
   "cell_type": "markdown",
   "id": "d03679f5",
   "metadata": {
    "papermill": {
     "duration": 0.010804,
     "end_time": "2022-11-16T05:19:07.340308",
     "exception": false,
     "start_time": "2022-11-16T05:19:07.329504",
     "status": "completed"
    },
    "tags": []
   },
   "source": [
    "### a. Songs by year\n",
    "\n",
    "<a id=\"subsection-4a\"></a>"
   ]
  },
  {
   "cell_type": "markdown",
   "id": "db7fef7b",
   "metadata": {
    "papermill": {
     "duration": 0.010152,
     "end_time": "2022-11-16T05:19:07.361115",
     "exception": false,
     "start_time": "2022-11-16T05:19:07.350963",
     "status": "completed"
    },
    "tags": []
   },
   "source": [
    "It is important to study the popularity of music over the years, given that we have a wide variety of new artists, new ways of disseminating art, technological innovations that change the accessibility of music and also the direction of the music industry. When we study the music of cultures this can gives us huge clues into what life and society was like, and how people felt about it at the time.\n",
    "\n",
    "Although this data comes from the Spotify platform, which has only recently existed, the popularity of old songs today reflects how the track was received at the time and how it could maintain its legacy.\n",
    "\n",
    "Therefore, it is interesting to observe the distribution of popular songs over the years in our dataset and verify which years were more or less prominent in the musical environment and try to seek a minimal explanation for that, using some of the features of the songs."
   ]
  },
  {
   "cell_type": "code",
   "execution_count": 12,
   "id": "a96662ca",
   "metadata": {
    "execution": {
     "iopub.execute_input": "2022-11-16T05:19:07.384146Z",
     "iopub.status.busy": "2022-11-16T05:19:07.383736Z",
     "iopub.status.idle": "2022-11-16T05:19:07.881297Z",
     "shell.execute_reply": "2022-11-16T05:19:07.880003Z"
    },
    "papermill": {
     "duration": 0.512189,
     "end_time": "2022-11-16T05:19:07.883886",
     "exception": false,
     "start_time": "2022-11-16T05:19:07.371697",
     "status": "completed"
    },
    "tags": []
   },
   "outputs": [
    {
     "data": {
      "image/png": "[encoded data removed]",
      "text/plain": [
       "<Figure size 1296x504 with 1 Axes>"
      ]
     },
     "metadata": {
      "needs_background": "light"
     },
     "output_type": "display_data"
    }
   ],
   "source": [
    "# Creating again a dataframe of songs by year, this time without 1998, 1999 and 2020\n",
    "songs_by_year = top_songs.groupby(\"year\").size().to_frame(name = 'songs').reset_index()\n",
    "\n",
    "# plotting a bar chart\n",
    "plt.figure(figsize = (18,7))\n",
    "plots = sns.barplot(x = 'year', y = 'songs', data = songs_by_year, palette = 'viridis')\n",
    "\n",
    "# Iterrating over the bars one-by-one to create the value labels\n",
    "for bar in plots.patches:\n",
    "   \n",
    "  # Using Matplotlib's annotate function and passing the coordinates where the annotation shall be done\n",
    "      ## x-coordinate: bar.get_x() + bar.get_width() / 2\n",
    "      ## y-coordinate: bar.get_height()\n",
    "      ## decimals of annotation: '.0f'\n",
    "      ## free space to be left to make graph pleasing: (0, 8)\n",
    "      ## ha and va stand for the horizontal and vertical alignment\n",
    "\n",
    "        plots.annotate(format(bar.get_height(), '.0f'),\n",
    "                   (bar.get_x() + bar.get_width() / 2,\n",
    "                    bar.get_height()), ha='center', va='center',\n",
    "                   size=10, xytext=(0, 8),\n",
    "                   textcoords='offset points')\n",
    "    \n",
    "\n",
    "# naming the x-axis and the y-axis\n",
    "plt.xlabel('Year of release', size = 13)\n",
    "plt.ylabel('Number of songs', size = 13)\n",
    "  \n",
    "# title of the graph\n",
    "plt.title('Number of songs by year (2000 - 2019)', size = 18)\n",
    "  \n",
    "# function to show the plot\n",
    "plt.show()"
   ]
  },
  {
   "cell_type": "markdown",
   "id": "c624aba2",
   "metadata": {
    "papermill": {
     "duration": 0.010825,
     "end_time": "2022-11-16T05:19:07.906061",
     "exception": false,
     "start_time": "2022-11-16T05:19:07.895236",
     "status": "completed"
    },
    "tags": []
   },
   "source": [
    "We can conclude that, from 2000 to 2019:\n",
    "\n",
    "The highests number of hit songs were in the year of:\n",
    "\n",
    "* **2012** (115 top hits); \n",
    "* **2017** (111 top hits); \n",
    "* **2001** (108 top hits).\n",
    "\n",
    "On the other side, thee lowest numbers of hit songs were in the year of:\n",
    "\n",
    "* **2000** (74 top hits);\n",
    "* **2009** (84 top hits); \n",
    "* **2013** and **2019** (89 top hits each)"
   ]
  },
  {
   "cell_type": "code",
   "execution_count": 13,
   "id": "d66c93ad",
   "metadata": {
    "_kg_hide-input": true,
    "execution": {
     "iopub.execute_input": "2022-11-16T05:19:07.930258Z",
     "iopub.status.busy": "2022-11-16T05:19:07.929805Z",
     "iopub.status.idle": "2022-11-16T05:19:07.934633Z",
     "shell.execute_reply": "2022-11-16T05:19:07.933551Z"
    },
    "papermill": {
     "duration": 0.019957,
     "end_time": "2022-11-16T05:19:07.937158",
     "exception": false,
     "start_time": "2022-11-16T05:19:07.917201",
     "status": "completed"
    },
    "tags": []
   },
   "outputs": [],
   "source": [
    "#pd.set_option('display.max_rows', None)\n",
    "#pd.options.display.max_rows = 100\n",
    "\n",
    "#display(top_songs[(top_songs.year == 2012)])"
   ]
  },
  {
   "cell_type": "markdown",
   "id": "2cbe1162",
   "metadata": {
    "papermill": {
     "duration": 0.010683,
     "end_time": "2022-11-16T05:19:07.959001",
     "exception": false,
     "start_time": "2022-11-16T05:19:07.948318",
     "status": "completed"
    },
    "tags": []
   },
   "source": [
    "Let's see if we can find something especial about the categories (mood, properties and context) of the songs from the best and worst years. We will filter the data in two groups and make a violin chart.\n",
    "\n",
    "The violin chart will help us to visualize if we are dealing with some multimodal or uniform data distribution."
   ]
  },
  {
   "cell_type": "code",
   "execution_count": 14,
   "id": "31c54109",
   "metadata": {
    "_kg_hide-output": true,
    "execution": {
     "iopub.execute_input": "2022-11-16T05:19:07.984612Z",
     "iopub.status.busy": "2022-11-16T05:19:07.984173Z",
     "iopub.status.idle": "2022-11-16T05:19:08.011467Z",
     "shell.execute_reply": "2022-11-16T05:19:08.010126Z"
    },
    "papermill": {
     "duration": 0.043607,
     "end_time": "2022-11-16T05:19:08.014110",
     "exception": false,
     "start_time": "2022-11-16T05:19:07.970503",
     "status": "completed"
    },
    "tags": []
   },
   "outputs": [
    {
     "data": {
      "text/html": [
       "<div>\n",
       "<style scoped>\n",
       "    .dataframe tbody tr th:only-of-type {\n",
       "        vertical-align: middle;\n",
       "    }\n",
       "\n",
       "    .dataframe tbody tr th {\n",
       "        vertical-align: top;\n",
       "    }\n",
       "\n",
       "    .dataframe thead th {\n",
       "        text-align: right;\n",
       "    }\n",
       "</style>\n",
       "<table border=\"1\" class=\"dataframe\">\n",
       "  <thead>\n",
       "    <tr style=\"text-align: right;\">\n",
       "      <th></th>\n",
       "      <th>year</th>\n",
       "      <th>year_top_bottom_hits</th>\n",
       "      <th>songs</th>\n",
       "    </tr>\n",
       "  </thead>\n",
       "  <tbody>\n",
       "    <tr>\n",
       "      <th>0</th>\n",
       "      <td>2000</td>\n",
       "      <td>bottom_years</td>\n",
       "      <td>74</td>\n",
       "    </tr>\n",
       "    <tr>\n",
       "      <th>1</th>\n",
       "      <td>2001</td>\n",
       "      <td>top_years</td>\n",
       "      <td>108</td>\n",
       "    </tr>\n",
       "    <tr>\n",
       "      <th>2</th>\n",
       "      <td>2009</td>\n",
       "      <td>bottom_years</td>\n",
       "      <td>84</td>\n",
       "    </tr>\n",
       "    <tr>\n",
       "      <th>3</th>\n",
       "      <td>2012</td>\n",
       "      <td>top_years</td>\n",
       "      <td>115</td>\n",
       "    </tr>\n",
       "    <tr>\n",
       "      <th>4</th>\n",
       "      <td>2013</td>\n",
       "      <td>bottom_years</td>\n",
       "      <td>89</td>\n",
       "    </tr>\n",
       "    <tr>\n",
       "      <th>5</th>\n",
       "      <td>2017</td>\n",
       "      <td>top_years</td>\n",
       "      <td>111</td>\n",
       "    </tr>\n",
       "    <tr>\n",
       "      <th>6</th>\n",
       "      <td>2019</td>\n",
       "      <td>bottom_years</td>\n",
       "      <td>89</td>\n",
       "    </tr>\n",
       "  </tbody>\n",
       "</table>\n",
       "</div>"
      ],
      "text/plain": [
       "   year year_top_bottom_hits  songs\n",
       "0  2000         bottom_years     74\n",
       "1  2001            top_years    108\n",
       "2  2009         bottom_years     84\n",
       "3  2012            top_years    115\n",
       "4  2013         bottom_years     89\n",
       "5  2017            top_years    111\n",
       "6  2019         bottom_years     89"
      ]
     },
     "metadata": {},
     "output_type": "display_data"
    }
   ],
   "source": [
    "# Creating a new filtered datafram containing only the top and bottom years of hits\n",
    "\n",
    "top_down_features = top_songs[(top_songs.year == 2012) |\n",
    "                              (top_songs.year == 2017) |\n",
    "                              (top_songs.year == 2001) |\n",
    "                              (top_songs.year == 2000) |\n",
    "                              (top_songs.year == 2009) |\n",
    "                              (top_songs.year == 2013) |\n",
    "                              (top_songs.year == 2019)]\n",
    "\n",
    "# Creating a new column with a flag indicating if top or bottom year\n",
    "\n",
    "# create a list of our conditions\n",
    "conditions = [\n",
    "    (top_down_features['year'] == 2012) | (top_down_features['year'] == 2017) | (top_down_features['year'] == 2001),\n",
    "    (top_down_features['year'] == 2000) | (top_down_features['year'] == 2009) | (top_down_features['year'] == 2013) | (top_down_features['year'] == 2019)\n",
    "    ]\n",
    "\n",
    "# create a list of the values we want to assign for each condition\n",
    "values = ['top_years', 'bottom_years']\n",
    "\n",
    "# create a new column and use np.select to assign values to it using our lists as arguments\n",
    "top_down_features['year_top_bottom_hits'] = np.select(conditions, values)\n",
    "\n",
    "display(top_down_features[['year','year_top_bottom_hits']] \\\n",
    "        .groupby(['year', 'year_top_bottom_hits']) \\\n",
    "        .size().to_frame(name = 'songs').reset_index())"
   ]
  },
  {
   "cell_type": "code",
   "execution_count": 15,
   "id": "92195aa6",
   "metadata": {
    "execution": {
     "iopub.execute_input": "2022-11-16T05:19:08.039858Z",
     "iopub.status.busy": "2022-11-16T05:19:08.039017Z",
     "iopub.status.idle": "2022-11-16T05:19:09.605121Z",
     "shell.execute_reply": "2022-11-16T05:19:09.604110Z"
    },
    "papermill": {
     "duration": 1.582082,
     "end_time": "2022-11-16T05:19:09.607826",
     "exception": false,
     "start_time": "2022-11-16T05:19:08.025744",
     "status": "completed"
    },
    "tags": []
   },
   "outputs": [
    {
     "data": {
      "image/png": "[encoded data removed]",
      "text/plain": [
       "<Figure size 1152x720 with 8 Axes>"
      ]
     },
     "metadata": {
      "needs_background": "light"
     },
     "output_type": "display_data"
    }
   ],
   "source": [
    "# Ploting the violin charts using subplots()\n",
    "\n",
    "plt.subplots(figsize=(16, 10),sharey=True)\n",
    "\n",
    "                         #-#-#-#-#-#-#-#-#-#-#-#-#-#-#-#-#-#-#-#-\n",
    "\n",
    "# danceability\n",
    "# using subplot function and creating plot one\n",
    "ax1 = plt.subplot(4,4,1)  # row 1, column 2, count 1\n",
    "\n",
    "sns.violinplot( x = \"year_top_bottom_hits\",    \\\n",
    "               y =\"danceability\",              \\\n",
    "               data = top_down_features,       \\\n",
    "               hue = \"year_top_bottom_hits\",   \\\n",
    "               linewidth=1.5,                  \\\n",
    "               palette = \"husl\")\n",
    "\n",
    "plt.title(\"Violin chart comparision of danceability\", loc=\"center\",fontsize=10)\n",
    "\n",
    "plt.xlabel(\"Years group\")\n",
    "plt.ylabel(\"danceability\")\n",
    "plt.legend([],[], frameon=False)\n",
    " \n",
    "                         #-#-#-#-#-#-#-#-#-#-#-#-#-#-#-#-#-#-#-#-\n",
    "\n",
    "# energy\n",
    "ax2 = plt.subplot(4, 4, 2)\n",
    "\n",
    "sns.violinplot( x = \"year_top_bottom_hits\",    \\\n",
    "               y =\"energy\",                    \\\n",
    "               data = top_down_features,       \\\n",
    "               hue = \"year_top_bottom_hits\",   \\\n",
    "               linewidth=1.5,                  \\\n",
    "               palette = \"husl\")\n",
    "\n",
    "plt.title(\"Violin chart comparision of energy\", loc=\"center\", fontsize=10)\n",
    "\n",
    "plt.xlabel(\"Years group\")\n",
    "plt.ylabel(\"energy\")\n",
    "plt.legend([],[], frameon=False)\n",
    "\n",
    "                         #-#-#-#-#-#-#-#-#-#-#-#-#-#-#-#-#-#-#-#-\n",
    "\n",
    "# loudness\n",
    "ax3 = plt.subplot(4,4,3)\n",
    "\n",
    "sns.violinplot( x = \"year_top_bottom_hits\",  \\\n",
    "               y =\"loudness\",                \\\n",
    "               data = top_down_features,     \\\n",
    "               hue = \"year_top_bottom_hits\", \\\n",
    "               linewidth=1.5,                \\\n",
    "               palette = \"husl\")\n",
    "\n",
    "plt.title(\"Violin chart comparision of loudness\", loc=\"center\", fontsize=10)\n",
    "plt.xlabel(\"Years group\")\n",
    "plt.ylabel(\"loudness\")\n",
    "plt.legend([],[], frameon=False)\n",
    "\n",
    "                         #-#-#-#-#-#-#-#-#-#-#-#-#-#-#-#-#-#-#-#-\n",
    "\n",
    "# speechiness\n",
    "ax4 = plt.subplot(4, 4, 4)\n",
    "\n",
    "sns.violinplot( x = \"year_top_bottom_hits\",  \\\n",
    "               y =\"speechiness\",             \\\n",
    "               data = top_down_features,     \\\n",
    "               hue = \"year_top_bottom_hits\", \\\n",
    "               linewidth=1.5,                \\\n",
    "               palette = \"husl\")\n",
    "\n",
    "plt.title(\"Violin chart comparision of speechiness\", loc=\"center\", fontsize=10)\n",
    "plt.xlabel(\"Years group\")\n",
    "plt.ylabel(\"speechiness\")\n",
    "plt.legend([],[], frameon=False)\n",
    "\n",
    "                         #-#-#-#-#-#-#-#-#-#-#-#-#-#-#-#-#-#-#-#-\n",
    "\n",
    "# acousticness\n",
    "ax5 = plt.subplot(4, 4, 5)\n",
    "\n",
    "sns.violinplot( x = \"year_top_bottom_hits\",  \\\n",
    "               y =\"acousticness\",            \\\n",
    "               data = top_down_features,     \\\n",
    "               hue = \"year_top_bottom_hits\", \\\n",
    "               linewidth=1.5,                \\\n",
    "               palette = \"husl\")\n",
    "\n",
    "plt.title(\"Violin chart comparision of acousticness\", loc=\"center\", fontsize=10)\n",
    "plt.xlabel(\"Years group\")\n",
    "plt.ylabel(\"acousticness\")\n",
    "plt.legend([],[], frameon=False)\n",
    "\n",
    "                         #-#-#-#-#-#-#-#-#-#-#-#-#-#-#-#-#-#-#-#-\n",
    "\n",
    "# instrumentalness\n",
    "ax6 = plt.subplot(4, 4, 6)\n",
    "\n",
    "sns.violinplot( x = \"year_top_bottom_hits\",    \\\n",
    "               y =\"instrumentalness\",          \\\n",
    "               data = top_down_features,       \\\n",
    "               hue = \"year_top_bottom_hits\",   \\\n",
    "               linewidth=1.5,                  \\\n",
    "               palette = \"husl\")\n",
    "\n",
    "plt.title(\"Violin chart comparision of instrumentalness\", loc=\"center\", fontsize=10)\n",
    "plt.xlabel(\"Years group\")\n",
    "plt.ylabel(\"instrumentalness\")\n",
    "plt.legend([],[], frameon=False)\n",
    "\n",
    "                         #-#-#-#-#-#-#-#-#-#-#-#-#-#-#-#-#-#-#-#-\n",
    "\n",
    "# liveness\n",
    "ax7 = plt.subplot(4, 4, 7)\n",
    "\n",
    "sns.violinplot( x = \"year_top_bottom_hits\",   \\\n",
    "               y =\"liveness\",                 \\\n",
    "               data = top_down_features,      \\\n",
    "               hue = \"year_top_bottom_hits\",  \\\n",
    "               linewidth=1.5,                 \\\n",
    "               palette = \"husl\")\n",
    "\n",
    "plt.title(\"Violin chart comparision of liveness\", loc=\"center\", fontsize=10)\n",
    "plt.xlabel(\"Years group\")\n",
    "plt.ylabel(\"liveness\")\n",
    "plt.legend([],[], frameon=False)\n",
    "\n",
    "                         #-#-#-#-#-#-#-#-#-#-#-#-#-#-#-#-#-#-#-#-\n",
    "\n",
    "# valence\n",
    "ax8 = plt.subplot(4, 4, 8)\n",
    "\n",
    "sns.violinplot( x = \"year_top_bottom_hits\",           \\\n",
    "               y =\"valence\",data = top_down_features, \\\n",
    "               hue = \"year_top_bottom_hits\",          \\\n",
    "               linewidth=1.5,                         \\\n",
    "               palette = \"husl\")\n",
    "\n",
    "plt.title(\"Violin chart comparision of valence\", loc=\"center\", fontsize=10)\n",
    "\n",
    "plt.xlabel(\"Years group\")\n",
    "plt.ylabel(\"valence\")\n",
    "plt.legend([],[], frameon=False)\n",
    "\n",
    "                         #-#-#-#-#-#-#-#-#-#-#-#-#-#-#-#-#-#-#-#-\n",
    "\n",
    "# space between the plots\n",
    "plt.tight_layout()\n",
    " \n",
    "# show plot\n",
    "plt.show()"
   ]
  },
  {
   "cell_type": "markdown",
   "id": "423097a1",
   "metadata": {
    "papermill": {
     "duration": 0.014045,
     "end_time": "2022-11-16T05:19:09.636011",
     "exception": false,
     "start_time": "2022-11-16T05:19:09.621966",
     "status": "completed"
    },
    "tags": []
   },
   "source": [
    "## 5. Hypothesis Testing\n",
    "\n",
    "<a id=\"section-five\"></a>"
   ]
  },
  {
   "cell_type": "markdown",
   "id": "c9e69460",
   "metadata": {
    "papermill": {
     "duration": 0.012462,
     "end_time": "2022-11-16T05:19:09.662085",
     "exception": false,
     "start_time": "2022-11-16T05:19:09.649623",
     "status": "completed"
    },
    "tags": []
   },
   "source": [
    "### a. Normality Test\n",
    "<a id=\"subsection-5a\"></a>\n",
    "\n",
    "Before doing the hypothesis test, we need to verify if we are dealing with normal distribution dataset. That's important because it will dictate what kind of test (parametrical or nonparametrical) we are going to use to test our hypothesis.\n",
    "\n",
    "First, let's formulate our null and alternative hypothesis:\n",
    "\n",
    "* **H0** - The feature **is distributed normally**\n",
    "\n",
    "* **H1** - The feature **is NOT distributed normally**\n",
    "\n",
    "Let's set our **significance level at 5%** (0.05)."
   ]
  },
  {
   "cell_type": "code",
   "execution_count": 16,
   "id": "569334bd",
   "metadata": {
    "_kg_hide-input": true,
    "execution": {
     "iopub.execute_input": "2022-11-16T05:19:09.690286Z",
     "iopub.status.busy": "2022-11-16T05:19:09.689814Z",
     "iopub.status.idle": "2022-11-16T05:19:09.699539Z",
     "shell.execute_reply": "2022-11-16T05:19:09.697926Z"
    },
    "papermill": {
     "duration": 0.027008,
     "end_time": "2022-11-16T05:19:09.702019",
     "exception": false,
     "start_time": "2022-11-16T05:19:09.675011",
     "status": "completed"
    },
    "tags": []
   },
   "outputs": [],
   "source": [
    "# droping all the non-music feature variables\n",
    "normality_sample = top_down_features.drop(['artist','song','duration_ms','explicit','year','popularity','key','mode','tempo','genre'], axis=1)\n",
    "\n",
    "\n",
    "# defining the normality test function (Shapiro Wilk test)\n",
    "\n",
    "def normal_test(feature, array, alpha=0.05):\n",
    "    stat, pval = shapiro(array)\n",
    "    \n",
    "    if pval < alpha:\n",
    "        print(f'Reject H0. The {feature} feature is NOT distributed normally.')\n",
    "        print('P-Value:', f'{pval:.20f}')\n",
    "        print('Statistic:', f'{stat:.3f}')\n",
    "    \n",
    "    else:\n",
    "        print(f'Accept H0. The {feature} feature is distributed normally.')\n",
    "        print('P-Value:', f'{pval:.20f}')\n",
    "        print('Statistic:', f'{stat:.3f}')"
   ]
  },
  {
   "cell_type": "code",
   "execution_count": 17,
   "id": "26628dda",
   "metadata": {
    "_kg_hide-input": true,
    "execution": {
     "iopub.execute_input": "2022-11-16T05:19:09.730366Z",
     "iopub.status.busy": "2022-11-16T05:19:09.729271Z",
     "iopub.status.idle": "2022-11-16T05:19:11.867575Z",
     "shell.execute_reply": "2022-11-16T05:19:11.866396Z"
    },
    "papermill": {
     "duration": 2.15535,
     "end_time": "2022-11-16T05:19:11.870364",
     "exception": false,
     "start_time": "2022-11-16T05:19:09.715014",
     "status": "completed"
    },
    "tags": []
   },
   "outputs": [
    {
     "name": "stdout",
     "output_type": "stream",
     "text": [
      "Reject H0. The danceability feature is NOT distributed normally.\n",
      "P-Value: 0.00001947630516951904\n",
      "Statistic: 0.988\n"
     ]
    },
    {
     "data": {
      "image/png": "[encoded data removed]",
      "text/plain": [
       "<Figure size 432x288 with 1 Axes>"
      ]
     },
     "metadata": {
      "needs_background": "light"
     },
     "output_type": "display_data"
    },
    {
     "name": "stdout",
     "output_type": "stream",
     "text": [
      "Reject H0. The energy feature is NOT distributed normally.\n",
      "P-Value: 0.00000000000215608087\n",
      "Statistic: 0.961\n"
     ]
    },
    {
     "data": {
      "image/png": "[encoded data removed]",
      "text/plain": [
       "<Figure size 432x288 with 1 Axes>"
      ]
     },
     "metadata": {
      "needs_background": "light"
     },
     "output_type": "display_data"
    },
    {
     "name": "stdout",
     "output_type": "stream",
     "text": [
      "Reject H0. The loudness feature is NOT distributed normally.\n",
      "P-Value: 0.00000000000000001664\n",
      "Statistic: 0.927\n"
     ]
    },
    {
     "data": {
      "image/png": "[encoded data removed]",
      "text/plain": [
       "<Figure size 432x288 with 1 Axes>"
      ]
     },
     "metadata": {
      "needs_background": "light"
     },
     "output_type": "display_data"
    },
    {
     "name": "stdout",
     "output_type": "stream",
     "text": [
      "Reject H0. The speechiness feature is NOT distributed normally.\n",
      "P-Value: 0.00000000000000000000\n",
      "Statistic: 0.730\n"
     ]
    },
    {
     "data": {
      "image/png": "[encoded data removed]",
      "text/plain": [
       "<Figure size 432x288 with 1 Axes>"
      ]
     },
     "metadata": {
      "needs_background": "light"
     },
     "output_type": "display_data"
    },
    {
     "name": "stdout",
     "output_type": "stream",
     "text": [
      "Reject H0. The acousticness feature is NOT distributed normally.\n",
      "P-Value: 0.00000000000000000000\n",
      "Statistic: 0.716\n"
     ]
    },
    {
     "data": {
      "image/png": "[encoded data removed]",
      "text/plain": [
       "<Figure size 432x288 with 1 Axes>"
      ]
     },
     "metadata": {
      "needs_background": "light"
     },
     "output_type": "display_data"
    },
    {
     "name": "stdout",
     "output_type": "stream",
     "text": [
      "Reject H0. The instrumentalness feature is NOT distributed normally.\n",
      "P-Value: 0.00000000000000000000\n",
      "Statistic: 0.160\n"
     ]
    },
    {
     "data": {
      "image/png": "[encoded data removed]",
      "text/plain": [
       "<Figure size 432x288 with 1 Axes>"
      ]
     },
     "metadata": {
      "needs_background": "light"
     },
     "output_type": "display_data"
    },
    {
     "name": "stdout",
     "output_type": "stream",
     "text": [
      "Reject H0. The liveness feature is NOT distributed normally.\n",
      "P-Value: 0.00000000000000000000\n",
      "Statistic: 0.798\n"
     ]
    },
    {
     "data": {
      "image/png": "[encoded data removed]",
      "text/plain": [
       "<Figure size 432x288 with 1 Axes>"
      ]
     },
     "metadata": {
      "needs_background": "light"
     },
     "output_type": "display_data"
    },
    {
     "name": "stdout",
     "output_type": "stream",
     "text": [
      "Reject H0. The valence feature is NOT distributed normally.\n",
      "P-Value: 0.00000003536906945101\n",
      "Statistic: 0.979\n"
     ]
    },
    {
     "data": {
      "image/png": "[encoded data removed]",
      "text/plain": [
       "<Figure size 432x288 with 1 Axes>"
      ]
     },
     "metadata": {
      "needs_background": "light"
     },
     "output_type": "display_data"
    }
   ],
   "source": [
    "# Looping the test through all the features\n",
    "\n",
    "for column in normality_sample.drop('year_top_bottom_hits', axis = 1).columns:\n",
    "    \n",
    "    normal_test(column, normality_sample[column].values)\n",
    "    \n",
    "    plt.title(f'Feature - {column}')\n",
    "    sns.distplot(normality_sample[column])\n",
    "    plt.show()"
   ]
  },
  {
   "cell_type": "markdown",
   "id": "c6a04a62",
   "metadata": {
    "papermill": {
     "duration": 0.01612,
     "end_time": "2022-11-16T05:19:11.903334",
     "exception": false,
     "start_time": "2022-11-16T05:19:11.887214",
     "status": "completed"
    },
    "tags": []
   },
   "source": [
    "### b. Hypothesis Test\n",
    "<a id=\"subsection-5b\"></a>\n",
    "\n",
    "Now that we know that all of our dataset of music features are **NOT** normally distributed, let's start the hypothesis test using *nonparametric test* (Mann-Whitney test).\n",
    "\n",
    "Again, let's formulate our null and alternative hypothesis:\n",
    "\n",
    "* **H0** - There are **no differences** between the top and bottom music group about that feature\n",
    "\n",
    "* **H1** - There **are differences** between the top and bottom music group about that feature\n",
    "\n",
    "Let's set our **significance level at 5%** (0.05)."
   ]
  },
  {
   "cell_type": "code",
   "execution_count": 18,
   "id": "581131ba",
   "metadata": {
    "_kg_hide-input": true,
    "execution": {
     "iopub.execute_input": "2022-11-16T05:19:11.937527Z",
     "iopub.status.busy": "2022-11-16T05:19:11.937045Z",
     "iopub.status.idle": "2022-11-16T05:19:11.944808Z",
     "shell.execute_reply": "2022-11-16T05:19:11.943475Z"
    },
    "papermill": {
     "duration": 0.027614,
     "end_time": "2022-11-16T05:19:11.947217",
     "exception": false,
     "start_time": "2022-11-16T05:19:11.919603",
     "status": "completed"
    },
    "tags": []
   },
   "outputs": [],
   "source": [
    "# Defining the Hypothesis Test function\n",
    "# Since our data in the samples are not normally distributed, we will use the nonparametric Mann-Whitney test.\n",
    "\n",
    "def teste_hipotese(array1, array2, alpha=0.05):\n",
    "    stat, pval = mannwhitneyu(array1, array2)\n",
    "    \n",
    "    if pval > alpha:\n",
    "        print('Accept H0 - There is no significant difference between the groups.')\n",
    "        print('Statistic:', f'{stat:.3f}')\n",
    "        print('P-Value:', f'{pval:.20f}')\n",
    "        print('\\n')\n",
    "    \n",
    "    if pval < alpha:\n",
    "        print('Reject H0 - There are significant differences between the groups.')\n",
    "        print('Statistic:', f'{stat:.3f}')\n",
    "        print('P-Value:', f'{pval:.20f}')\n",
    "        print('\\n')"
   ]
  },
  {
   "cell_type": "code",
   "execution_count": 19,
   "id": "2a02844a",
   "metadata": {
    "_kg_hide-input": true,
    "execution": {
     "iopub.execute_input": "2022-11-16T05:19:11.982329Z",
     "iopub.status.busy": "2022-11-16T05:19:11.981853Z",
     "iopub.status.idle": "2022-11-16T05:19:12.012886Z",
     "shell.execute_reply": "2022-11-16T05:19:12.011618Z"
    },
    "papermill": {
     "duration": 0.051647,
     "end_time": "2022-11-16T05:19:12.015585",
     "exception": false,
     "start_time": "2022-11-16T05:19:11.963938",
     "status": "completed"
    },
    "tags": []
   },
   "outputs": [
    {
     "name": "stdout",
     "output_type": "stream",
     "text": [
      "danceability\n",
      "Accept H0 - There is no significant difference between the groups.\n",
      "Statistic: 56243.000\n",
      "P-Value: 0.95845257562811791985\n",
      "\n",
      "\n",
      "energy\n",
      "Accept H0 - There is no significant difference between the groups.\n",
      "Statistic: 58915.000\n",
      "P-Value: 0.26324469408411488303\n",
      "\n",
      "\n",
      "loudness\n",
      "Reject H0 - There are significant differences between the groups.\n",
      "Statistic: 62144.000\n",
      "P-Value: 0.01605100190808307625\n",
      "\n",
      "\n",
      "speechiness\n",
      "Accept H0 - There is no significant difference between the groups.\n",
      "Statistic: 56672.000\n",
      "P-Value: 0.82326205580004629958\n",
      "\n",
      "\n",
      "acousticness\n",
      "Accept H0 - There is no significant difference between the groups.\n",
      "Statistic: 52814.000\n",
      "P-Value: 0.18805582124370245900\n",
      "\n",
      "\n",
      "instrumentalness\n",
      "Accept H0 - There is no significant difference between the groups.\n",
      "Statistic: 56287.000\n",
      "P-Value: 0.93958981124602392043\n",
      "\n",
      "\n",
      "liveness\n",
      "Accept H0 - There is no significant difference between the groups.\n",
      "Statistic: 54852.000\n",
      "P-Value: 0.61511056553848986184\n",
      "\n",
      "\n",
      "valence\n",
      "Accept H0 - There is no significant difference between the groups.\n",
      "Statistic: 58110.000\n",
      "P-Value: 0.42521993020679305086\n",
      "\n",
      "\n"
     ]
    }
   ],
   "source": [
    "# Looping the test through all the features\n",
    "    \n",
    "features_influenciadoras = []\n",
    "\n",
    "for column in normality_sample.drop('year_top_bottom_hits', axis=1).columns:\n",
    "    \n",
    "    top_years = normality_sample.loc[normality_sample['year_top_bottom_hits'] == 'top_years']\n",
    "    bottom_years = normality_sample.loc[normality_sample['year_top_bottom_hits'] == 'bottom_years']\n",
    "    \n",
    "    array_t = top_years[column].tolist()\n",
    "    array_b = bottom_years[column].tolist()\n",
    "    \n",
    "    print(column)\n",
    "    \n",
    "    hipotese = teste_hipotese(array_t, array_b)"
   ]
  },
  {
   "cell_type": "markdown",
   "id": "d12f700a",
   "metadata": {
    "papermill": {
     "duration": 0.017455,
     "end_time": "2022-11-16T05:19:12.050601",
     "exception": false,
     "start_time": "2022-11-16T05:19:12.033146",
     "status": "completed"
    },
    "tags": []
   },
   "source": [
    "## 6. Conclusion\n",
    "\n",
    "<a id=\"section-six\"></a>"
   ]
  },
  {
   "cell_type": "markdown",
   "id": "b557f244",
   "metadata": {
    "papermill": {
     "duration": 0.015946,
     "end_time": "2022-11-16T05:19:12.083341",
     "exception": false,
     "start_time": "2022-11-16T05:19:12.067395",
     "status": "completed"
    },
    "tags": []
   },
   "source": [
    "In conclusion:\n",
    "\n",
    "* Our data for all the music features variables are **NOT distributed normally**, therefore, we used nonparametric test for hypothesis verification;\n",
    "\n",
    "* Using the *Mann-Whitney test*, we conclude that the only music feature that is statistically different between the group of years with most successful songs and the group of years with least number of songs is the **loudness**."
   ]
  }
 ],
 "metadata": {
  "kernelspec": {
   "display_name": "Python 3",
   "language": "python",
   "name": "python3"
  },
  "language_info": {
   "codemirror_mode": {
    "name": "ipython",
    "version": 3
   },
   "file_extension": ".py",
   "mimetype": "text/x-python",
   "name": "python",
   "nbconvert_exporter": "python",
   "pygments_lexer": "ipython3",
   "version": "3.7.12"
  },
  "papermill": {
   "default_parameters": {},
   "duration": 18.867362,
   "end_time": "2022-11-16T05:19:13.023881",
   "environment_variables": {},
   "exception": null,
   "input_path": "__notebook__.ipynb",
   "output_path": "__notebook__.ipynb",
   "parameters": {},
   "start_time": "2022-11-16T05:18:54.156519",
   "version": "2.3.4"
  }
 },
 "nbformat": 4,
 "nbformat_minor": 5
}
